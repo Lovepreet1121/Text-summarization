{
 "cells": [
  {
   "cell_type": "markdown",
   "id": "a560516f",
   "metadata": {},
   "source": [
    "## Installing different packages using pip"
   ]
  },
  {
   "cell_type": "code",
   "execution_count": 1,
   "id": "13085099",
   "metadata": {},
   "outputs": [
    {
     "name": "stdout",
     "output_type": "stream",
     "text": [
      "Requirement already satisfied: transformers in c:\\users\\asus\\appdata\\roaming\\python\\python39\\site-packages (4.37.0)\n",
      "Requirement already satisfied: requests in c:\\users\\asus\\appdata\\roaming\\python\\python39\\site-packages (from transformers) (2.31.0)\n",
      "Requirement already satisfied: filelock in c:\\users\\asus\\appdata\\roaming\\python\\python39\\site-packages (from transformers) (3.13.1)\n",
      "Requirement already satisfied: tokenizers<0.19,>=0.14 in c:\\users\\asus\\appdata\\roaming\\python\\python39\\site-packages (from transformers) (0.15.0)\n",
      "Requirement already satisfied: packaging>=20.0 in c:\\users\\asus\\appdata\\roaming\\python\\python39\\site-packages (from transformers) (23.2)\n",
      "Requirement already satisfied: pyyaml>=5.1 in c:\\users\\asus\\appdata\\roaming\\python\\python39\\site-packages (from transformers) (6.0.1)\n",
      "Requirement already satisfied: safetensors>=0.3.1 in c:\\users\\asus\\appdata\\roaming\\python\\python39\\site-packages (from transformers) (0.4.1)\n",
      "Requirement already satisfied: tqdm>=4.27 in c:\\users\\asus\\appdata\\roaming\\python\\python39\\site-packages (from transformers) (4.66.1)\n",
      "Requirement already satisfied: regex!=2019.12.17 in c:\\users\\asus\\appdata\\roaming\\python\\python39\\site-packages (from transformers) (2023.12.25)\n",
      "Requirement already satisfied: numpy>=1.17 in c:\\users\\asus\\appdata\\roaming\\python\\python39\\site-packages (from transformers) (1.26.3)\n",
      "Requirement already satisfied: huggingface-hub<1.0,>=0.19.3 in c:\\users\\asus\\appdata\\roaming\\python\\python39\\site-packages (from transformers) (0.20.3)\n",
      "Requirement already satisfied: typing-extensions>=3.7.4.3 in c:\\users\\asus\\appdata\\roaming\\python\\python39\\site-packages (from huggingface-hub<1.0,>=0.19.3->transformers) (4.9.0)\n",
      "Requirement already satisfied: fsspec>=2023.5.0 in c:\\users\\asus\\appdata\\roaming\\python\\python39\\site-packages (from huggingface-hub<1.0,>=0.19.3->transformers) (2023.12.2)\n",
      "Requirement already satisfied: colorama in c:\\users\\asus\\appdata\\roaming\\python\\python39\\site-packages (from tqdm>=4.27->transformers) (0.4.6)\n",
      "Requirement already satisfied: certifi>=2017.4.17 in c:\\users\\asus\\appdata\\roaming\\python\\python39\\site-packages (from requests->transformers) (2023.11.17)\n",
      "Requirement already satisfied: idna<4,>=2.5 in c:\\users\\asus\\appdata\\roaming\\python\\python39\\site-packages (from requests->transformers) (3.6)\n",
      "Requirement already satisfied: charset-normalizer<4,>=2 in c:\\users\\asus\\appdata\\roaming\\python\\python39\\site-packages (from requests->transformers) (3.3.2)\n",
      "Requirement already satisfied: urllib3<3,>=1.21.1 in c:\\users\\asus\\appdata\\roaming\\python\\python39\\site-packages (from requests->transformers) (2.1.0)\n"
     ]
    }
   ],
   "source": [
    "!pip install transformers"
   ]
  },
  {
   "cell_type": "code",
   "execution_count": 2,
   "id": "32bb47d2",
   "metadata": {},
   "outputs": [
    {
     "name": "stdout",
     "output_type": "stream",
     "text": [
      "Requirement already satisfied: topsis-bhavya-102103345 in c:\\users\\asus\\anaconda3\\lib\\site-packages (1.0.2)\n"
     ]
    }
   ],
   "source": [
    "!pip install topsis-bhavya-102103345"
   ]
  },
  {
   "cell_type": "code",
   "execution_count": 3,
   "id": "ec1faa1e",
   "metadata": {},
   "outputs": [
    {
     "name": "stdout",
     "output_type": "stream",
     "text": [
      "Requirement already satisfied: torch in c:\\users\\asus\\anaconda3\\lib\\site-packages (2.1.2)\n",
      "Requirement already satisfied: jinja2 in c:\\users\\asus\\anaconda3\\lib\\site-packages (from torch) (2.11.3)\n",
      "Requirement already satisfied: networkx in c:\\users\\asus\\anaconda3\\lib\\site-packages (from torch) (2.6.3)\n",
      "Requirement already satisfied: fsspec in c:\\users\\asus\\appdata\\roaming\\python\\python39\\site-packages (from torch) (2023.12.2)\n",
      "Requirement already satisfied: sympy in c:\\users\\asus\\anaconda3\\lib\\site-packages (from torch) (1.9)\n",
      "Requirement already satisfied: typing-extensions in c:\\users\\asus\\appdata\\roaming\\python\\python39\\site-packages (from torch) (4.9.0)\n",
      "Requirement already satisfied: filelock in c:\\users\\asus\\appdata\\roaming\\python\\python39\\site-packages (from torch) (3.13.1)\n",
      "Requirement already satisfied: MarkupSafe>=0.23 in c:\\users\\asus\\anaconda3\\lib\\site-packages (from jinja2->torch) (1.1.1)\n",
      "Requirement already satisfied: mpmath>=0.19 in c:\\users\\asus\\anaconda3\\lib\\site-packages (from sympy->torch) (1.2.1)\n"
     ]
    }
   ],
   "source": [
    "!pip install torch"
   ]
  },
  {
   "cell_type": "code",
   "execution_count": 4,
   "id": "888311ea",
   "metadata": {},
   "outputs": [
    {
     "name": "stdout",
     "output_type": "stream",
     "text": [
      "Requirement already satisfied: tensorflow in c:\\users\\asus\\anaconda3\\lib\\site-packages (2.15.0)\n",
      "Requirement already satisfied: tensorflow-intel==2.15.0 in c:\\users\\asus\\anaconda3\\lib\\site-packages (from tensorflow) (2.15.0)\n",
      "Requirement already satisfied: ml-dtypes~=0.2.0 in c:\\users\\asus\\anaconda3\\lib\\site-packages (from tensorflow-intel==2.15.0->tensorflow) (0.2.0)\n",
      "Requirement already satisfied: packaging in c:\\users\\asus\\appdata\\roaming\\python\\python39\\site-packages (from tensorflow-intel==2.15.0->tensorflow) (23.2)\n",
      "Requirement already satisfied: setuptools in c:\\users\\asus\\anaconda3\\lib\\site-packages (from tensorflow-intel==2.15.0->tensorflow) (58.0.4)\n",
      "Requirement already satisfied: opt-einsum>=2.3.2 in c:\\users\\asus\\anaconda3\\lib\\site-packages (from tensorflow-intel==2.15.0->tensorflow) (3.3.0)\n",
      "Requirement already satisfied: tensorflow-io-gcs-filesystem>=0.23.1 in c:\\users\\asus\\anaconda3\\lib\\site-packages (from tensorflow-intel==2.15.0->tensorflow) (0.31.0)\n",
      "Requirement already satisfied: typing-extensions>=3.6.6 in c:\\users\\asus\\appdata\\roaming\\python\\python39\\site-packages (from tensorflow-intel==2.15.0->tensorflow) (4.9.0)\n",
      "Requirement already satisfied: astunparse>=1.6.0 in c:\\users\\asus\\anaconda3\\lib\\site-packages (from tensorflow-intel==2.15.0->tensorflow) (1.6.3)\n",
      "Requirement already satisfied: termcolor>=1.1.0 in c:\\users\\asus\\anaconda3\\lib\\site-packages (from tensorflow-intel==2.15.0->tensorflow) (2.4.0)\n",
      "Requirement already satisfied: keras<2.16,>=2.15.0 in c:\\users\\asus\\anaconda3\\lib\\site-packages (from tensorflow-intel==2.15.0->tensorflow) (2.15.0)\n",
      "Requirement already satisfied: h5py>=2.9.0 in c:\\users\\asus\\anaconda3\\lib\\site-packages (from tensorflow-intel==2.15.0->tensorflow) (3.2.1)\n",
      "Requirement already satisfied: six>=1.12.0 in c:\\users\\asus\\anaconda3\\lib\\site-packages (from tensorflow-intel==2.15.0->tensorflow) (1.16.0)\n",
      "Requirement already satisfied: tensorflow-estimator<2.16,>=2.15.0 in c:\\users\\asus\\anaconda3\\lib\\site-packages (from tensorflow-intel==2.15.0->tensorflow) (2.15.0)\n",
      "Requirement already satisfied: libclang>=13.0.0 in c:\\users\\asus\\anaconda3\\lib\\site-packages (from tensorflow-intel==2.15.0->tensorflow) (16.0.6)\n",
      "Requirement already satisfied: grpcio<2.0,>=1.24.3 in c:\\users\\asus\\anaconda3\\lib\\site-packages (from tensorflow-intel==2.15.0->tensorflow) (1.60.0)\n",
      "Requirement already satisfied: gast!=0.5.0,!=0.5.1,!=0.5.2,>=0.2.1 in c:\\users\\asus\\anaconda3\\lib\\site-packages (from tensorflow-intel==2.15.0->tensorflow) (0.5.4)\n",
      "Requirement already satisfied: numpy<2.0.0,>=1.23.5 in c:\\users\\asus\\appdata\\roaming\\python\\python39\\site-packages (from tensorflow-intel==2.15.0->tensorflow) (1.26.3)\n",
      "Requirement already satisfied: flatbuffers>=23.5.26 in c:\\users\\asus\\anaconda3\\lib\\site-packages (from tensorflow-intel==2.15.0->tensorflow) (23.5.26)\n",
      "Requirement already satisfied: wrapt<1.15,>=1.11.0 in c:\\users\\asus\\anaconda3\\lib\\site-packages (from tensorflow-intel==2.15.0->tensorflow) (1.12.1)\n",
      "Requirement already satisfied: tensorboard<2.16,>=2.15 in c:\\users\\asus\\anaconda3\\lib\\site-packages (from tensorflow-intel==2.15.0->tensorflow) (2.15.1)\n",
      "Requirement already satisfied: protobuf!=4.21.0,!=4.21.1,!=4.21.2,!=4.21.3,!=4.21.4,!=4.21.5,<5.0.0dev,>=3.20.3 in c:\\users\\asus\\anaconda3\\lib\\site-packages (from tensorflow-intel==2.15.0->tensorflow) (4.23.4)\n",
      "Requirement already satisfied: absl-py>=1.0.0 in c:\\users\\asus\\anaconda3\\lib\\site-packages (from tensorflow-intel==2.15.0->tensorflow) (1.0.0)\n",
      "Requirement already satisfied: google-pasta>=0.1.1 in c:\\users\\asus\\anaconda3\\lib\\site-packages (from tensorflow-intel==2.15.0->tensorflow) (0.2.0)\n",
      "Requirement already satisfied: wheel<1.0,>=0.23.0 in c:\\users\\asus\\anaconda3\\lib\\site-packages (from astunparse>=1.6.0->tensorflow-intel==2.15.0->tensorflow) (0.37.0)\n",
      "Requirement already satisfied: markdown>=2.6.8 in c:\\users\\asus\\anaconda3\\lib\\site-packages (from tensorboard<2.16,>=2.15->tensorflow-intel==2.15.0->tensorflow) (3.5.2)\n",
      "Requirement already satisfied: tensorboard-data-server<0.8.0,>=0.7.0 in c:\\users\\asus\\anaconda3\\lib\\site-packages (from tensorboard<2.16,>=2.15->tensorflow-intel==2.15.0->tensorflow) (0.7.2)\n",
      "Requirement already satisfied: requests<3,>=2.21.0 in c:\\users\\asus\\appdata\\roaming\\python\\python39\\site-packages (from tensorboard<2.16,>=2.15->tensorflow-intel==2.15.0->tensorflow) (2.31.0)\n",
      "Requirement already satisfied: google-auth-oauthlib<2,>=0.5 in c:\\users\\asus\\anaconda3\\lib\\site-packages (from tensorboard<2.16,>=2.15->tensorflow-intel==2.15.0->tensorflow) (1.2.0)\n",
      "Requirement already satisfied: werkzeug>=1.0.1 in c:\\users\\asus\\anaconda3\\lib\\site-packages (from tensorboard<2.16,>=2.15->tensorflow-intel==2.15.0->tensorflow) (2.0.2)\n",
      "Requirement already satisfied: google-auth<3,>=1.6.3 in c:\\users\\asus\\anaconda3\\lib\\site-packages (from tensorboard<2.16,>=2.15->tensorflow-intel==2.15.0->tensorflow) (2.26.2)\n",
      "Requirement already satisfied: cachetools<6.0,>=2.0.0 in c:\\users\\asus\\anaconda3\\lib\\site-packages (from google-auth<3,>=1.6.3->tensorboard<2.16,>=2.15->tensorflow-intel==2.15.0->tensorflow) (5.3.2)\n",
      "Requirement already satisfied: pyasn1-modules>=0.2.1 in c:\\users\\asus\\anaconda3\\lib\\site-packages (from google-auth<3,>=1.6.3->tensorboard<2.16,>=2.15->tensorflow-intel==2.15.0->tensorflow) (0.3.0)\n",
      "Requirement already satisfied: rsa<5,>=3.1.4 in c:\\users\\asus\\anaconda3\\lib\\site-packages (from google-auth<3,>=1.6.3->tensorboard<2.16,>=2.15->tensorflow-intel==2.15.0->tensorflow) (4.9)\n",
      "Requirement already satisfied: requests-oauthlib>=0.7.0 in c:\\users\\asus\\anaconda3\\lib\\site-packages (from google-auth-oauthlib<2,>=0.5->tensorboard<2.16,>=2.15->tensorflow-intel==2.15.0->tensorflow) (1.3.1)\n",
      "Requirement already satisfied: importlib-metadata>=4.4 in c:\\users\\asus\\anaconda3\\lib\\site-packages (from markdown>=2.6.8->tensorboard<2.16,>=2.15->tensorflow-intel==2.15.0->tensorflow) (4.8.1)\n",
      "Requirement already satisfied: zipp>=0.5 in c:\\users\\asus\\anaconda3\\lib\\site-packages (from importlib-metadata>=4.4->markdown>=2.6.8->tensorboard<2.16,>=2.15->tensorflow-intel==2.15.0->tensorflow) (3.6.0)\n",
      "Requirement already satisfied: pyasn1<0.6.0,>=0.4.6 in c:\\users\\asus\\anaconda3\\lib\\site-packages (from pyasn1-modules>=0.2.1->google-auth<3,>=1.6.3->tensorboard<2.16,>=2.15->tensorflow-intel==2.15.0->tensorflow) (0.5.1)\n",
      "Requirement already satisfied: idna<4,>=2.5 in c:\\users\\asus\\appdata\\roaming\\python\\python39\\site-packages (from requests<3,>=2.21.0->tensorboard<2.16,>=2.15->tensorflow-intel==2.15.0->tensorflow) (3.6)\n",
      "Requirement already satisfied: charset-normalizer<4,>=2 in c:\\users\\asus\\appdata\\roaming\\python\\python39\\site-packages (from requests<3,>=2.21.0->tensorboard<2.16,>=2.15->tensorflow-intel==2.15.0->tensorflow) (3.3.2)\n",
      "Requirement already satisfied: urllib3<3,>=1.21.1 in c:\\users\\asus\\appdata\\roaming\\python\\python39\\site-packages (from requests<3,>=2.21.0->tensorboard<2.16,>=2.15->tensorflow-intel==2.15.0->tensorflow) (2.1.0)\n",
      "Requirement already satisfied: certifi>=2017.4.17 in c:\\users\\asus\\appdata\\roaming\\python\\python39\\site-packages (from requests<3,>=2.21.0->tensorboard<2.16,>=2.15->tensorflow-intel==2.15.0->tensorflow) (2023.11.17)\n",
      "Requirement already satisfied: oauthlib>=3.0.0 in c:\\users\\asus\\anaconda3\\lib\\site-packages (from requests-oauthlib>=0.7.0->google-auth-oauthlib<2,>=0.5->tensorboard<2.16,>=2.15->tensorflow-intel==2.15.0->tensorflow) (3.2.2)\n"
     ]
    }
   ],
   "source": [
    "!pip install tensorflow"
   ]
  },
  {
   "cell_type": "code",
   "execution_count": 5,
   "id": "7a4b62cc",
   "metadata": {},
   "outputs": [
    {
     "name": "stdout",
     "output_type": "stream",
     "text": [
      "Requirement already satisfied: nltk in c:\\users\\asus\\anaconda3\\lib\\site-packages (3.6.5)\n",
      "Requirement already satisfied: click in c:\\users\\asus\\anaconda3\\lib\\site-packages (from nltk) (8.0.3)\n",
      "Requirement already satisfied: joblib in c:\\users\\asus\\anaconda3\\lib\\site-packages (from nltk) (1.1.0)\n",
      "Requirement already satisfied: regex>=2021.8.3 in c:\\users\\asus\\appdata\\roaming\\python\\python39\\site-packages (from nltk) (2023.12.25)\n",
      "Requirement already satisfied: tqdm in c:\\users\\asus\\appdata\\roaming\\python\\python39\\site-packages (from nltk) (4.66.1)\n",
      "Requirement already satisfied: colorama in c:\\users\\asus\\appdata\\roaming\\python\\python39\\site-packages (from click->nltk) (0.4.6)\n"
     ]
    }
   ],
   "source": [
    "!pip install nltk"
   ]
  },
  {
   "cell_type": "code",
   "execution_count": 6,
   "id": "2558ff76",
   "metadata": {},
   "outputs": [
    {
     "name": "stdout",
     "output_type": "stream",
     "text": [
      "Requirement already satisfied: sentencepiece in c:\\users\\asus\\anaconda3\\lib\\site-packages (0.1.99)\n"
     ]
    }
   ],
   "source": [
    "!pip install sentencepiece"
   ]
  },
  {
   "cell_type": "code",
   "execution_count": 99,
   "id": "8b9812b6",
   "metadata": {},
   "outputs": [
    {
     "name": "stderr",
     "output_type": "stream",
     "text": [
      "ERROR: Could not find a version that satisfies the requirement pycider (from versions: none)\n",
      "ERROR: No matching distribution found for pycider\n"
     ]
    }
   ],
   "source": [
    "!pip install pycider"
   ]
  },
  {
   "cell_type": "markdown",
   "id": "7411f5c9",
   "metadata": {},
   "source": [
    "## Summarization of text using different models"
   ]
  },
  {
   "cell_type": "code",
   "execution_count": 7,
   "id": "a2bdad7b",
   "metadata": {},
   "outputs": [
    {
     "name": "stdout",
     "output_type": "stream",
     "text": [
      "Enter the text which you want to summarize : Cricket is a bat-and-ball game played between two teams of eleven players on a field at the centre of which is a 22-yard (20-metre) pitch with a wicket at each end, each comprising two bails balanced on three stumps. The batting side scores runs by striking the ball bowled at one of the wickets with the bat and then running between the wickets, while the bowling and fielding side tries to prevent this (by preventing the ball from leaving the field, and getting the ball to either wicket) and dismiss each batter (so they are \"out\"). Means of dismissal include being bowled, when the ball hits the stumps and dislodges the bails, and by the fielding side either catching the ball after it is hit by the bat, but before it hits the ground, or hitting a wicket with the ball before a batter can cross the crease in front of the wicket. When ten batters have been dismissed, the innings ends and the teams swap roles. The game is adjudicated by two umpires, aided by a third umpire and match referee in international matches. They communicate with two off-field scorers who record the match's statistical information.  Forms of cricket range from Twenty20 (also known as T20), with each team batting for a single innings of 20 overs (each \"over\" being a set of 6 fair opportunities for the batting team to score) and the game generally lasting three to four hours, to Test matches played over five days. Traditionally cricketers play in all-white kit, but in limited overs cricket they wear club or team colours. In addition to the basic kit, some players wear protective gear to prevent injury caused by the ball, which is a hard, solid spheroid made of compressed leather with a slightly raised sewn seam enclosing a cork core layered with tightly wound string.  The earliest known definite reference to cricket is to it being played in South East England in the mid-16th century. It spread globally with the expansion of the British Empire, with the first international matches in the second half of the 19th century. The game's governing body is the International Cricket Council (ICC), which has over 100 members, twelve of which are full members who play Test matches. The game's rules, the Laws of Cricket, are maintained by Marylebone Cricket Club (MCC) in London. The sport is followed primarily in South Asia, Australia, New Zealand, the United Kingdom, Southern Africa and the West Indies.[1]  Women's cricket, which is organised and played separately, has also achieved international standard.  The most successful side playing international cricket is Australia, which has won eight One Day International trophies, including six World Cups, more than any other country and has been the top-rated Test side more than any other country.\n"
     ]
    }
   ],
   "source": [
    "text = input(\"Enter the text which you want to summarize : \")"
   ]
  },
  {
   "cell_type": "code",
   "execution_count": 8,
   "id": "df6770cc",
   "metadata": {},
   "outputs": [
    {
     "data": {
      "text/plain": [
       "'Cricket is a bat-and-ball game played between two teams of eleven players on a field at the centre of which is a 22-yard (20-metre) pitch with a wicket at each end, each comprising two bails balanced on three stumps. The batting side scores runs by striking the ball bowled at one of the wickets with the bat and then running between the wickets, while the bowling and fielding side tries to prevent this (by preventing the ball from leaving the field, and getting the ball to either wicket) and dismiss each batter (so they are \"out\"). Means of dismissal include being bowled, when the ball hits the stumps and dislodges the bails, and by the fielding side either catching the ball after it is hit by the bat, but before it hits the ground, or hitting a wicket with the ball before a batter can cross the crease in front of the wicket. When ten batters have been dismissed, the innings ends and the teams swap roles. The game is adjudicated by two umpires, aided by a third umpire and match referee in international matches. They communicate with two off-field scorers who record the match\\'s statistical information.  Forms of cricket range from Twenty20 (also known as T20), with each team batting for a single innings of 20 overs (each \"over\" being a set of 6 fair opportunities for the batting team to score) and the game generally lasting three to four hours, to Test matches played over five days. Traditionally cricketers play in all-white kit, but in limited overs cricket they wear club or team colours. In addition to the basic kit, some players wear protective gear to prevent injury caused by the ball, which is a hard, solid spheroid made of compressed leather with a slightly raised sewn seam enclosing a cork core layered with tightly wound string.  The earliest known definite reference to cricket is to it being played in South East England in the mid-16th century. It spread globally with the expansion of the British Empire, with the first international matches in the second half of the 19th century. The game\\'s governing body is the International Cricket Council (ICC), which has over 100 members, twelve of which are full members who play Test matches. The game\\'s rules, the Laws of Cricket, are maintained by Marylebone Cricket Club (MCC) in London. The sport is followed primarily in South Asia, Australia, New Zealand, the United Kingdom, Southern Africa and the West Indies.[1]  Women\\'s cricket, which is organised and played separately, has also achieved international standard.  The most successful side playing international cricket is Australia, which has won eight One Day International trophies, including six World Cups, more than any other country and has been the top-rated Test side more than any other country.'"
      ]
     },
     "execution_count": 8,
     "metadata": {},
     "output_type": "execute_result"
    }
   ],
   "source": [
    "text"
   ]
  },
  {
   "cell_type": "markdown",
   "id": "7e3c4405",
   "metadata": {},
   "source": [
    "## Text Preprocessing"
   ]
  },
  {
   "cell_type": "code",
   "execution_count": 9,
   "id": "b997b41c",
   "metadata": {},
   "outputs": [
    {
     "name": "stderr",
     "output_type": "stream",
     "text": [
      "C:\\Users\\Asus\\anaconda3\\lib\\site-packages\\scipy\\__init__.py:146: UserWarning: A NumPy version >=1.16.5 and <1.23.0 is required for this version of SciPy (detected version 1.26.3\n",
      "  warnings.warn(f\"A NumPy version >={np_minversion} and <{np_maxversion}\"\n",
      "[nltk_data] Downloading package stopwords to\n",
      "[nltk_data]     C:\\Users\\Asus\\AppData\\Roaming\\nltk_data...\n",
      "[nltk_data]   Package stopwords is already up-to-date!\n",
      "[nltk_data] Downloading package punkt to\n",
      "[nltk_data]     C:\\Users\\Asus\\AppData\\Roaming\\nltk_data...\n",
      "[nltk_data]   Package punkt is already up-to-date!\n",
      "[nltk_data] Downloading package wordnet to\n",
      "[nltk_data]     C:\\Users\\Asus\\AppData\\Roaming\\nltk_data...\n",
      "[nltk_data]   Package wordnet is already up-to-date!\n"
     ]
    }
   ],
   "source": [
    "import re\n",
    "import nltk\n",
    "from nltk.corpus import stopwords\n",
    "from nltk.tokenize import sent_tokenize, word_tokenize\n",
    "from nltk.stem import WordNetLemmatizer\n",
    "nltk.download('stopwords')\n",
    "nltk.download('punkt')\n",
    "nltk.download('wordnet')\n",
    "def preprocess_text_for_summarization(text, retain_stopwords=None):\n",
    "    # Lowercasing\n",
    "    text = text.lower()\n",
    "    # Sentence Tokenization\n",
    "    sentences = sent_tokenize(text)\n",
    "    # Remove special characters and numbers\n",
    "    text = re.sub(r'[^a-zA-Z\\s]', '', text)\n",
    "    # Remove stopwords excluding those specified in retain_stopwords\n",
    "    stop_words = set(stopwords.words('english'))\n",
    "    if retain_stopwords:\n",
    "        stop_words -= set(retain_stopwords)\n",
    "    words = word_tokenize(text)\n",
    "    words = [word for word in words if word not in stop_words]\n",
    "    # Lemmatization\n",
    "    lemmatizer = WordNetLemmatizer()\n",
    "    words = [lemmatizer.lemmatize(word) for word in words]\n",
    "    # Join words back into sentences\n",
    "    preprocessed_text = ' '.join(words)\n",
    "    return preprocessed_text"
   ]
  },
  {
   "cell_type": "code",
   "execution_count": 10,
   "id": "dc14f87d",
   "metadata": {},
   "outputs": [],
   "source": [
    "text = preprocess_text_for_summarization(text,retain_stopwords=['a','is','the'])"
   ]
  },
  {
   "cell_type": "code",
   "execution_count": 11,
   "id": "f1a0a5f9",
   "metadata": {},
   "outputs": [
    {
     "data": {
      "text/plain": [
       "'cricket is a batandball game played two team eleven player a field the centre is a yard metre pitch a wicket end comprising two bail balanced three stump the batting side score run striking the ball bowled one the wicket the bat running the wicket the bowling fielding side try prevent preventing the ball leaving the field getting the ball either wicket dismiss batter mean dismissal include bowled the ball hit the stump dislodges the bail the fielding side either catching the ball is hit the bat hit the ground hitting a wicket the ball a batter cross the crease front the wicket ten batter dismissed the inning end the team swap role the game is adjudicated two umpire aided a third umpire match referee international match communicate two offfield scorer record the match statistical information form cricket range twenty also known team batting a single inning over a set fair opportunity the batting team score the game generally lasting three four hour test match played five day traditionally cricketer play allwhite kit limited over cricket wear club team colour addition the basic kit player wear protective gear prevent injury caused the ball is a hard solid spheroid made compressed leather a slightly raised sewn seam enclosing a cork core layered tightly wound string the earliest known definite reference cricket is played south east england the midth century spread globally the expansion the british empire the first international match the second half the th century the game governing body is the international cricket council icc member twelve full member play test match the game rule the law cricket maintained marylebone cricket club mcc london the sport is followed primarily south asia australia new zealand the united kingdom southern africa the west indie woman cricket is organised played separately also achieved international standard the successful side playing international cricket is australia eight one day international trophy including six world cup country the toprated test side country'"
      ]
     },
     "execution_count": 11,
     "metadata": {},
     "output_type": "execute_result"
    }
   ],
   "source": [
    "text"
   ]
  },
  {
   "cell_type": "markdown",
   "id": "83f7df23",
   "metadata": {},
   "source": [
    "### Model - 1 => bart-large-cnn\n",
    "### https://huggingface.co/facebook/bart-large-cnn"
   ]
  },
  {
   "cell_type": "code",
   "execution_count": 12,
   "id": "24781d7d",
   "metadata": {},
   "outputs": [
    {
     "name": "stdout",
     "output_type": "stream",
     "text": [
      "WARNING:tensorflow:From C:\\Users\\Asus\\anaconda3\\lib\\site-packages\\keras\\src\\losses.py:2976: The name tf.losses.sparse_softmax_cross_entropy is deprecated. Please use tf.compat.v1.losses.sparse_softmax_cross_entropy instead.\n",
      "\n"
     ]
    }
   ],
   "source": [
    "from transformers import pipeline\n",
    "summarizer = pipeline('summarization',model='facebook/bart-large-cnn')"
   ]
  },
  {
   "cell_type": "code",
   "execution_count": 13,
   "id": "bff67d2a",
   "metadata": {},
   "outputs": [],
   "source": [
    "summarized_text1 = summarizer(text,max_length=130,min_length=30,do_sample = False)"
   ]
  },
  {
   "cell_type": "code",
   "execution_count": 14,
   "id": "0bfa2b21",
   "metadata": {},
   "outputs": [
    {
     "name": "stdout",
     "output_type": "stream",
     "text": [
      "Cricket is a batandball game played two team eleven player a field the centre is a yard metre pitch a wicket end comprising two bail balanced three stump the batting side score run striking the ball bowled one the wicket the bat running the wickets the bowling fielding side try prevent preventing the ball leaving the field getting the ball either wicket dismiss batter mean dismissal include bowled the ball hit the stump dislodges the bail. The game governing body is the international cricket council icc member twelve full member play test match.\n"
     ]
    }
   ],
   "source": [
    "print(summarized_text1[0]['summary_text'])"
   ]
  },
  {
   "cell_type": "markdown",
   "id": "8d730889",
   "metadata": {},
   "source": [
    "### Model - 2 => MEETING_SUMMARY\n",
    "### https://huggingface.co/knkarthick/MEETING_SUMMARY"
   ]
  },
  {
   "cell_type": "code",
   "execution_count": 15,
   "id": "d6d63a6e",
   "metadata": {},
   "outputs": [],
   "source": [
    "from transformers import pipeline\n",
    "summarizer1 = pipeline(\"summarization\", model=\"knkarthick/MEETING_SUMMARY\")"
   ]
  },
  {
   "cell_type": "code",
   "execution_count": 16,
   "id": "6441f55b",
   "metadata": {},
   "outputs": [],
   "source": [
    "summarized_text2 = summarizer1(text,max_length=130,min_length=90,do_sample = False)"
   ]
  },
  {
   "cell_type": "code",
   "execution_count": 17,
   "id": "2f33dcb2",
   "metadata": {},
   "outputs": [
    {
     "data": {
      "text/plain": [
       "'Cricket is played in South East England, Australia, New Zealand and in the West Indies. The game governing body is the International Cricket Council (ICC). The game rules are written by umpires and scorers. The cricket ball is hard solid spheroid made compressed leather with a cork core layered tightly wound string. The basic kit for cricket is white with a club colour added. The successful team is Australia.  '"
      ]
     },
     "execution_count": 17,
     "metadata": {},
     "output_type": "execute_result"
    }
   ],
   "source": [
    "summarized_text2[0]['summary_text']"
   ]
  },
  {
   "cell_type": "markdown",
   "id": "f958558d",
   "metadata": {},
   "source": [
    "### Model - 3 => t5-base-fr-sum-cnndm\n",
    "### https://huggingface.co/plguillou/t5-base-fr-sum-cnndm"
   ]
  },
  {
   "cell_type": "code",
   "execution_count": 18,
   "id": "50f5a1ba",
   "metadata": {},
   "outputs": [
    {
     "data": {
      "application/vnd.jupyter.widget-view+json": {
       "model_id": "b22099e87145431ab6f3c7c0ddad3acc",
       "version_major": 2,
       "version_minor": 0
      },
      "text/plain": [
       "tokenizer_config.json:   0%|          | 0.00/2.13k [00:00<?, ?B/s]"
      ]
     },
     "metadata": {},
     "output_type": "display_data"
    },
    {
     "name": "stderr",
     "output_type": "stream",
     "text": [
      "C:\\Users\\Asus\\AppData\\Roaming\\Python\\Python39\\site-packages\\huggingface_hub\\file_download.py:149: UserWarning: `huggingface_hub` cache-system uses symlinks by default to efficiently store duplicated files but your machine does not support them in C:\\Users\\Asus\\.cache\\huggingface\\hub\\models--plguillou--t5-base-fr-sum-cnndm. Caching files will still work but in a degraded version that might require more space on your disk. This warning can be disabled by setting the `HF_HUB_DISABLE_SYMLINKS_WARNING` environment variable. For more details, see https://huggingface.co/docs/huggingface_hub/how-to-cache#limitations.\n",
      "To support symlinks on Windows, you either need to activate Developer Mode or to run Python as an administrator. In order to see activate developer mode, see this article: https://docs.microsoft.com/en-us/windows/apps/get-started/enable-your-device-for-development\n",
      "  warnings.warn(message)\n"
     ]
    },
    {
     "data": {
      "application/vnd.jupyter.widget-view+json": {
       "model_id": "d6cc2359bcd2456e848c0b452ba52ece",
       "version_major": 2,
       "version_minor": 0
      },
      "text/plain": [
       "spiece.model:   0%|          | 0.00/792k [00:00<?, ?B/s]"
      ]
     },
     "metadata": {},
     "output_type": "display_data"
    },
    {
     "data": {
      "application/vnd.jupyter.widget-view+json": {
       "model_id": "1a742bb302634f368acc246bf941805a",
       "version_major": 2,
       "version_minor": 0
      },
      "text/plain": [
       "added_tokens.json:   0%|          | 0.00/31.0 [00:00<?, ?B/s]"
      ]
     },
     "metadata": {},
     "output_type": "display_data"
    },
    {
     "data": {
      "application/vnd.jupyter.widget-view+json": {
       "model_id": "04b8a2fda6ca44e7885782eba00b499b",
       "version_major": 2,
       "version_minor": 0
      },
      "text/plain": [
       "special_tokens_map.json:   0%|          | 0.00/1.79k [00:00<?, ?B/s]"
      ]
     },
     "metadata": {},
     "output_type": "display_data"
    },
    {
     "data": {
      "application/vnd.jupyter.widget-view+json": {
       "model_id": "0b06b838e1aa401a8d8f48b7df09e8ab",
       "version_major": 2,
       "version_minor": 0
      },
      "text/plain": [
       "config.json:   0%|          | 0.00/1.24k [00:00<?, ?B/s]"
      ]
     },
     "metadata": {},
     "output_type": "display_data"
    },
    {
     "name": "stderr",
     "output_type": "stream",
     "text": [
      "You are using the default legacy behaviour of the <class 'transformers.models.t5.tokenization_t5.T5Tokenizer'>. This is expected, and simply means that the `legacy` (previous) behavior will be used so nothing changes for you. If you want to use the new behaviour, set `legacy=False`. This should only be set if you understand what it means, and thoroughly read the reason why this was added as explained in https://github.com/huggingface/transformers/pull/24565\n",
      "Special tokens have been added in the vocabulary, make sure the associated word embeddings are fine-tuned or trained.\n"
     ]
    },
    {
     "data": {
      "application/vnd.jupyter.widget-view+json": {
       "model_id": "5d1777e4a5cb4d17845a5cfd7dc3d619",
       "version_major": 2,
       "version_minor": 0
      },
      "text/plain": [
       "pytorch_model.bin:   0%|          | 0.00/892M [00:00<?, ?B/s]"
      ]
     },
     "metadata": {},
     "output_type": "display_data"
    },
    {
     "name": "stderr",
     "output_type": "stream",
     "text": [
      "C:\\Users\\Asus\\anaconda3\\lib\\site-packages\\torch\\_utils.py:831: UserWarning: TypedStorage is deprecated. It will be removed in the future and UntypedStorage will be the only storage class. This should only matter to you if you are using storages directly.  To access UntypedStorage directly, use tensor.untyped_storage() instead of tensor.storage()\n",
      "  return self.fget.__get__(instance, owner)()\n"
     ]
    }
   ],
   "source": [
    "from transformers import T5Tokenizer, T5ForConditionalGeneration\n",
    "tokenizer = T5Tokenizer.from_pretrained(\"plguillou/t5-base-fr-sum-cnndm\")\n",
    "model = T5ForConditionalGeneration.from_pretrained(\"plguillou/t5-base-fr-sum-cnndm\")"
   ]
  },
  {
   "cell_type": "code",
   "execution_count": 21,
   "id": "83801328",
   "metadata": {},
   "outputs": [],
   "source": [
    "input_ids = tokenizer.encode(text, return_tensors=\"pt\", max_length=1024, truncation=True)\n",
    "summary_ids = model.generate(input_ids, max_length=150, num_beams=4, length_penalty=2.0, early_stopping=True)\n",
    "summarized_text3 = tokenizer.decode(summary_ids[0], skip_special_tokens=True)"
   ]
  },
  {
   "cell_type": "code",
   "execution_count": 22,
   "id": "4e74a10b",
   "metadata": {},
   "outputs": [
    {
     "data": {
      "text/plain": [
       "'Cricket is a two team cricket game played two team eleven player a field the centre is a yard metre pitch a wicket end comprising two bail balanced three stump the batting side score run striking the ball bowled one the wicket the bat running the wicket the bowling fielding side try prevent preventing the ball leaving the field getting the ball either wicket dismissal include bowled the ball hit the stump dislodges the bail the fielding side either catching the ball is hit the ball hit the ground hitting a wicket ten batter dismissed the inning end the team swap role the game is adjudicated two umpire aided a third umpire match refere'"
      ]
     },
     "execution_count": 22,
     "metadata": {},
     "output_type": "execute_result"
    }
   ],
   "source": [
    "summarized_text3"
   ]
  },
  {
   "cell_type": "markdown",
   "id": "587eed86",
   "metadata": {},
   "source": [
    "### Model - 4 => text_summarization\n",
    "### https://huggingface.co/Falconsai/text_summarization"
   ]
  },
  {
   "cell_type": "code",
   "execution_count": 23,
   "id": "e9dd5871",
   "metadata": {},
   "outputs": [
    {
     "data": {
      "application/vnd.jupyter.widget-view+json": {
       "model_id": "19bbadaa1f1d43eda51f58457bd90716",
       "version_major": 2,
       "version_minor": 0
      },
      "text/plain": [
       "config.json:   0%|          | 0.00/1.49k [00:00<?, ?B/s]"
      ]
     },
     "metadata": {},
     "output_type": "display_data"
    },
    {
     "name": "stderr",
     "output_type": "stream",
     "text": [
      "C:\\Users\\Asus\\AppData\\Roaming\\Python\\Python39\\site-packages\\huggingface_hub\\file_download.py:149: UserWarning: `huggingface_hub` cache-system uses symlinks by default to efficiently store duplicated files but your machine does not support them in C:\\Users\\Asus\\.cache\\huggingface\\hub\\models--Falconsai--text_summarization. Caching files will still work but in a degraded version that might require more space on your disk. This warning can be disabled by setting the `HF_HUB_DISABLE_SYMLINKS_WARNING` environment variable. For more details, see https://huggingface.co/docs/huggingface_hub/how-to-cache#limitations.\n",
      "To support symlinks on Windows, you either need to activate Developer Mode or to run Python as an administrator. In order to see activate developer mode, see this article: https://docs.microsoft.com/en-us/windows/apps/get-started/enable-your-device-for-development\n",
      "  warnings.warn(message)\n"
     ]
    },
    {
     "data": {
      "application/vnd.jupyter.widget-view+json": {
       "model_id": "a8aba6fe631a4346b06627008f8b287b",
       "version_major": 2,
       "version_minor": 0
      },
      "text/plain": [
       "model.safetensors:   0%|          | 0.00/242M [00:00<?, ?B/s]"
      ]
     },
     "metadata": {},
     "output_type": "display_data"
    },
    {
     "data": {
      "application/vnd.jupyter.widget-view+json": {
       "model_id": "da7cf7d17757452193626498406feecc",
       "version_major": 2,
       "version_minor": 0
      },
      "text/plain": [
       "generation_config.json:   0%|          | 0.00/112 [00:00<?, ?B/s]"
      ]
     },
     "metadata": {},
     "output_type": "display_data"
    },
    {
     "data": {
      "application/vnd.jupyter.widget-view+json": {
       "model_id": "caf2bfb93535415f85a9ec0a7543cc6e",
       "version_major": 2,
       "version_minor": 0
      },
      "text/plain": [
       "tokenizer_config.json:   0%|          | 0.00/2.32k [00:00<?, ?B/s]"
      ]
     },
     "metadata": {},
     "output_type": "display_data"
    },
    {
     "data": {
      "application/vnd.jupyter.widget-view+json": {
       "model_id": "34bb26fb77f44d0f9d00ce494efaeb7c",
       "version_major": 2,
       "version_minor": 0
      },
      "text/plain": [
       "spiece.model:   0%|          | 0.00/792k [00:00<?, ?B/s]"
      ]
     },
     "metadata": {},
     "output_type": "display_data"
    },
    {
     "data": {
      "application/vnd.jupyter.widget-view+json": {
       "model_id": "7a27e7fee9cf48b39433eaef0bfffe79",
       "version_major": 2,
       "version_minor": 0
      },
      "text/plain": [
       "tokenizer.json:   0%|          | 0.00/2.42M [00:00<?, ?B/s]"
      ]
     },
     "metadata": {},
     "output_type": "display_data"
    },
    {
     "data": {
      "application/vnd.jupyter.widget-view+json": {
       "model_id": "8d1932653d3e4f75a085f6c29b1ea53d",
       "version_major": 2,
       "version_minor": 0
      },
      "text/plain": [
       "special_tokens_map.json:   0%|          | 0.00/2.20k [00:00<?, ?B/s]"
      ]
     },
     "metadata": {},
     "output_type": "display_data"
    }
   ],
   "source": [
    "from transformers import pipeline\n",
    "summarizer2 = pipeline(\"summarization\", model=\"Falconsai/text_summarization\")"
   ]
  },
  {
   "cell_type": "code",
   "execution_count": 24,
   "id": "afcea2d8",
   "metadata": {},
   "outputs": [],
   "source": [
    "summarized_text4 = summarizer2(text,max_length=130,min_length=90,do_sample = False)"
   ]
  },
  {
   "cell_type": "code",
   "execution_count": 25,
   "id": "1faee728",
   "metadata": {},
   "outputs": [
    {
     "data": {
      "text/plain": [
       "'cricket is played two team eleven player a field the centre is a yard metre pitch a wicket end comprising two bail balanced three stump the batting side score run striking the ball bowled one the wicket the bowling fielding side try prevent preventing the ball leaving the field getting the ball either wicket dismiss batter mean dismissal include bowles the ball hit the ground hitting a batter cross the crease front the wicket ten batter dismissed the inning end the team swap role the game is adjudicated two umpire'"
      ]
     },
     "execution_count": 25,
     "metadata": {},
     "output_type": "execute_result"
    }
   ],
   "source": [
    "summarized_text4[0]['summary_text']"
   ]
  },
  {
   "cell_type": "markdown",
   "id": "476b0cb7",
   "metadata": {},
   "source": [
    "### Model - 5 => led-large-book-summary\n",
    "### https://huggingface.co/pszemraj/led-large-book-summary"
   ]
  },
  {
   "cell_type": "code",
   "execution_count": 27,
   "id": "d14ac741",
   "metadata": {},
   "outputs": [
    {
     "data": {
      "application/vnd.jupyter.widget-view+json": {
       "model_id": "1ce751faa8844110951d3d9ce5584fb8",
       "version_major": 2,
       "version_minor": 0
      },
      "text/plain": [
       "config.json:   0%|          | 0.00/1.44k [00:00<?, ?B/s]"
      ]
     },
     "metadata": {},
     "output_type": "display_data"
    },
    {
     "name": "stderr",
     "output_type": "stream",
     "text": [
      "C:\\Users\\Asus\\AppData\\Roaming\\Python\\Python39\\site-packages\\huggingface_hub\\file_download.py:149: UserWarning: `huggingface_hub` cache-system uses symlinks by default to efficiently store duplicated files but your machine does not support them in C:\\Users\\Asus\\.cache\\huggingface\\hub\\models--pszemraj--led-large-book-summary. Caching files will still work but in a degraded version that might require more space on your disk. This warning can be disabled by setting the `HF_HUB_DISABLE_SYMLINKS_WARNING` environment variable. For more details, see https://huggingface.co/docs/huggingface_hub/how-to-cache#limitations.\n",
      "To support symlinks on Windows, you either need to activate Developer Mode or to run Python as an administrator. In order to see activate developer mode, see this article: https://docs.microsoft.com/en-us/windows/apps/get-started/enable-your-device-for-development\n",
      "  warnings.warn(message)\n"
     ]
    },
    {
     "data": {
      "application/vnd.jupyter.widget-view+json": {
       "model_id": "60a461ec1133487f91c7caa28a1879b5",
       "version_major": 2,
       "version_minor": 0
      },
      "text/plain": [
       "model.safetensors:   0%|          | 0.00/1.84G [00:00<?, ?B/s]"
      ]
     },
     "metadata": {},
     "output_type": "display_data"
    },
    {
     "data": {
      "application/vnd.jupyter.widget-view+json": {
       "model_id": "e3368e0ed6dc444c924e8d6c7222ce7b",
       "version_major": 2,
       "version_minor": 0
      },
      "text/plain": [
       "tokenizer_config.json:   0%|          | 0.00/1.32k [00:00<?, ?B/s]"
      ]
     },
     "metadata": {},
     "output_type": "display_data"
    },
    {
     "data": {
      "application/vnd.jupyter.widget-view+json": {
       "model_id": "e9a84cb4caae4acfb2c69996c7719220",
       "version_major": 2,
       "version_minor": 0
      },
      "text/plain": [
       "vocab.json:   0%|          | 0.00/798k [00:00<?, ?B/s]"
      ]
     },
     "metadata": {},
     "output_type": "display_data"
    },
    {
     "data": {
      "application/vnd.jupyter.widget-view+json": {
       "model_id": "67fde3a97bc146a783ccf823b6e1b89c",
       "version_major": 2,
       "version_minor": 0
      },
      "text/plain": [
       "merges.txt:   0%|          | 0.00/456k [00:00<?, ?B/s]"
      ]
     },
     "metadata": {},
     "output_type": "display_data"
    },
    {
     "data": {
      "application/vnd.jupyter.widget-view+json": {
       "model_id": "dd873a6a2a4e485991c5ab6024fdef1d",
       "version_major": 2,
       "version_minor": 0
      },
      "text/plain": [
       "tokenizer.json:   0%|          | 0.00/2.11M [00:00<?, ?B/s]"
      ]
     },
     "metadata": {},
     "output_type": "display_data"
    },
    {
     "data": {
      "application/vnd.jupyter.widget-view+json": {
       "model_id": "1c6096ddf5d94e40a3bd12975508ce0d",
       "version_major": 2,
       "version_minor": 0
      },
      "text/plain": [
       "special_tokens_map.json:   0%|          | 0.00/772 [00:00<?, ?B/s]"
      ]
     },
     "metadata": {},
     "output_type": "display_data"
    }
   ],
   "source": [
    "import torch\n",
    "from transformers import pipeline\n",
    "hf_name = 'pszemraj/led-large-book-summary'\n",
    "summarizer3 = pipeline(\n",
    "    \"summarization\",\n",
    "    hf_name,\n",
    "    device=0 if torch.cuda.is_available() else -1,\n",
    ")"
   ]
  },
  {
   "cell_type": "code",
   "execution_count": 28,
   "id": "0730a19b",
   "metadata": {},
   "outputs": [
    {
     "name": "stderr",
     "output_type": "stream",
     "text": [
      "Input ids are automatically padded from 371 to 1024 to be a multiple of `config.attention_window`: 1024\n"
     ]
    }
   ],
   "source": [
    "summarized_text5 = summarizer3(text,min_length = 90,\n",
    "                               max_length = 200,\n",
    "                               no_repeat_ngram_size=3,\n",
    "                               encoder_no_repeat_ngram_size=3,\n",
    "                               repetition_penalty=3.5,\n",
    "                               num_beams=4,\n",
    "                               early_stopping=True)"
   ]
  },
  {
   "cell_type": "code",
   "execution_count": 30,
   "id": "ef7dcf4d",
   "metadata": {},
   "outputs": [
    {
     "data": {
      "text/plain": [
       "\"In this chapter we learn about cricket, the game played between batsmen and bowlers. We also learn about the rules of the game and its governing body, the International Cricket Council. What is cricket? Well, it's basically a bat and ball game played on a cricket pitch with two umpires and three stump players. The playing takes place in five day test match-like contests with twenty known countries across the world. Here are some facts about cricket: balls are made of compressed leather, the batting teams wear protective equipment to prevent injury due to the impact of the ball on the ground, the breaking point is the ball struck by the bat, the fielding team tries to stop the ball from getting away from the field, and so on. It is played in many countries throughout the world but the most famous country is Australia which has won the most prestigious tournament, the One Day Internationals.\""
      ]
     },
     "execution_count": 30,
     "metadata": {},
     "output_type": "execute_result"
    }
   ],
   "source": [
    "summarized_text5[0]['summary_text']"
   ]
  },
  {
   "cell_type": "markdown",
   "id": "2cdbb4f9",
   "metadata": {},
   "source": [
    "### BLEU Score"
   ]
  },
  {
   "cell_type": "code",
   "execution_count": 32,
   "id": "035d5caf",
   "metadata": {},
   "outputs": [],
   "source": [
    "import nltk\n",
    "from nltk.translate.bleu_score import sentence_bleu, SmoothingFunction\n",
    "def calculate_bleu_score(reference, hypothesis):\n",
    "    reference_tokens = [reference.split()]\n",
    "    hypothesis_tokens = hypothesis.split()\n",
    "    smoothing_function = SmoothingFunction().method1\n",
    "    bleu_score = sentence_bleu(reference_tokens, hypothesis_tokens, smoothing_function=smoothing_function)\n",
    "    return bleu_score"
   ]
  },
  {
   "cell_type": "code",
   "execution_count": 113,
   "id": "4ffafc1a",
   "metadata": {},
   "outputs": [],
   "source": [
    "bleu_score1 = calculate_bleu_score(text,summarized_text1[0]['summary_text'])"
   ]
  },
  {
   "cell_type": "code",
   "execution_count": 114,
   "id": "24a8e58b",
   "metadata": {},
   "outputs": [
    {
     "data": {
      "text/plain": [
       "0.07525678788260079"
      ]
     },
     "execution_count": 114,
     "metadata": {},
     "output_type": "execute_result"
    }
   ],
   "source": [
    "bleu_score1"
   ]
  },
  {
   "cell_type": "code",
   "execution_count": 115,
   "id": "e8ec66de",
   "metadata": {},
   "outputs": [],
   "source": [
    "bleu_score2 = calculate_bleu_score(text,summarized_text2[0]['summary_text'])"
   ]
  },
  {
   "cell_type": "code",
   "execution_count": 116,
   "id": "f855fc45",
   "metadata": {},
   "outputs": [
    {
     "data": {
      "text/plain": [
       "0.005524193328737768"
      ]
     },
     "execution_count": 116,
     "metadata": {},
     "output_type": "execute_result"
    }
   ],
   "source": [
    "bleu_score2"
   ]
  },
  {
   "cell_type": "code",
   "execution_count": 117,
   "id": "d2ec40e7",
   "metadata": {},
   "outputs": [],
   "source": [
    "bleu_score3 = calculate_bleu_score(text,summarized_text3)"
   ]
  },
  {
   "cell_type": "code",
   "execution_count": 118,
   "id": "bb86bdf9",
   "metadata": {},
   "outputs": [
    {
     "data": {
      "text/plain": [
       "0.14321374604701642"
      ]
     },
     "execution_count": 118,
     "metadata": {},
     "output_type": "execute_result"
    }
   ],
   "source": [
    "bleu_score3"
   ]
  },
  {
   "cell_type": "code",
   "execution_count": 119,
   "id": "594f48c3",
   "metadata": {},
   "outputs": [],
   "source": [
    "bleu_score4 = calculate_bleu_score(text,summarized_text4[0]['summary_text'])"
   ]
  },
  {
   "cell_type": "code",
   "execution_count": 120,
   "id": "284c39a5",
   "metadata": {},
   "outputs": [
    {
     "data": {
      "text/plain": [
       "0.0698426535345447"
      ]
     },
     "execution_count": 120,
     "metadata": {},
     "output_type": "execute_result"
    }
   ],
   "source": [
    "bleu_score4"
   ]
  },
  {
   "cell_type": "code",
   "execution_count": 121,
   "id": "1badb83e",
   "metadata": {},
   "outputs": [],
   "source": [
    "bleu_score5 = calculate_bleu_score(text,summarized_text5[0]['summary_text'])"
   ]
  },
  {
   "cell_type": "code",
   "execution_count": 122,
   "id": "1077f77b",
   "metadata": {},
   "outputs": [
    {
     "data": {
      "text/plain": [
       "0.0037450848950041507"
      ]
     },
     "execution_count": 122,
     "metadata": {},
     "output_type": "execute_result"
    }
   ],
   "source": [
    "bleu_score5"
   ]
  },
  {
   "cell_type": "code",
   "execution_count": 124,
   "id": "092f79be",
   "metadata": {},
   "outputs": [],
   "source": [
    "bleu_score = [bleu_score1,bleu_score2,bleu_score3,bleu_score4,bleu_score5]"
   ]
  },
  {
   "cell_type": "code",
   "execution_count": 125,
   "id": "54c84c84",
   "metadata": {},
   "outputs": [
    {
     "data": {
      "text/plain": [
       "[0.07525678788260079,\n",
       " 0.005524193328737768,\n",
       " 0.14321374604701642,\n",
       " 0.0698426535345447,\n",
       " 0.0037450848950041507]"
      ]
     },
     "execution_count": 125,
     "metadata": {},
     "output_type": "execute_result"
    }
   ],
   "source": [
    "bleu_score"
   ]
  },
  {
   "cell_type": "markdown",
   "id": "a5c49692",
   "metadata": {},
   "source": [
    "### F1 Score"
   ]
  },
  {
   "cell_type": "code",
   "execution_count": 61,
   "id": "65896084",
   "metadata": {},
   "outputs": [],
   "source": [
    "import nltk\n",
    "from nltk.tokenize import word_tokenize\n",
    "from nltk.metrics import precision, recall, f_measure\n",
    "def calculate_f1_score(reference, hypothesis):\n",
    "    reference_tokens = set(word_tokenize(reference))\n",
    "    hypothesis_tokens = set(word_tokenize(hypothesis))\n",
    "    precision_score = precision(reference_tokens, hypothesis_tokens)\n",
    "    recall_score = recall(reference_tokens, hypothesis_tokens)\n",
    "    f1_score_result = f_measure(reference_tokens, hypothesis_tokens)\n",
    "    return f1_score_result"
   ]
  },
  {
   "cell_type": "code",
   "execution_count": 62,
   "id": "b054a5fe",
   "metadata": {},
   "outputs": [],
   "source": [
    "f1_score1 = calculate_f1_score(text,summarized_text1[0]['summary_text'])"
   ]
  },
  {
   "cell_type": "code",
   "execution_count": 63,
   "id": "89eb2893",
   "metadata": {},
   "outputs": [
    {
     "data": {
      "text/plain": [
       "0.4876033057851239"
      ]
     },
     "execution_count": 63,
     "metadata": {},
     "output_type": "execute_result"
    }
   ],
   "source": [
    "f1_score1"
   ]
  },
  {
   "cell_type": "code",
   "execution_count": 64,
   "id": "9f255c43",
   "metadata": {},
   "outputs": [],
   "source": [
    "f1_score2 = calculate_f1_score(text,summarized_text2[0]['summary_text'])"
   ]
  },
  {
   "cell_type": "code",
   "execution_count": 65,
   "id": "c84163c6",
   "metadata": {},
   "outputs": [
    {
     "data": {
      "text/plain": [
       "0.22978723404255322"
      ]
     },
     "execution_count": 65,
     "metadata": {},
     "output_type": "execute_result"
    }
   ],
   "source": [
    "f1_score2"
   ]
  },
  {
   "cell_type": "code",
   "execution_count": 66,
   "id": "dbcec8e8",
   "metadata": {},
   "outputs": [],
   "source": [
    "f1_score3 = calculate_f1_score(text,summarized_text3)"
   ]
  },
  {
   "cell_type": "code",
   "execution_count": 67,
   "id": "c8817f93",
   "metadata": {},
   "outputs": [
    {
     "data": {
      "text/plain": [
       "0.48535564853556484"
      ]
     },
     "execution_count": 67,
     "metadata": {},
     "output_type": "execute_result"
    }
   ],
   "source": [
    "f1_score3"
   ]
  },
  {
   "cell_type": "code",
   "execution_count": 68,
   "id": "e6f2d251",
   "metadata": {},
   "outputs": [],
   "source": [
    "f1_score4 = calculate_f1_score(text,summarized_text4[0]['summary_text'])"
   ]
  },
  {
   "cell_type": "code",
   "execution_count": 69,
   "id": "0eed7f64",
   "metadata": {},
   "outputs": [
    {
     "data": {
      "text/plain": [
       "0.4745762711864407"
      ]
     },
     "execution_count": 69,
     "metadata": {},
     "output_type": "execute_result"
    }
   ],
   "source": [
    "f1_score4"
   ]
  },
  {
   "cell_type": "code",
   "execution_count": 70,
   "id": "1cc55a42",
   "metadata": {},
   "outputs": [],
   "source": [
    "f1_score5 = calculate_f1_score(text,summarized_text5[0]['summary_text'])"
   ]
  },
  {
   "cell_type": "code",
   "execution_count": 71,
   "id": "05e69321",
   "metadata": {},
   "outputs": [
    {
     "data": {
      "text/plain": [
       "0.2508710801393728"
      ]
     },
     "execution_count": 71,
     "metadata": {},
     "output_type": "execute_result"
    }
   ],
   "source": [
    "f1_score5"
   ]
  },
  {
   "cell_type": "code",
   "execution_count": 126,
   "id": "5e6fc8ae",
   "metadata": {},
   "outputs": [],
   "source": [
    "f1_score = [f1_score1,f1_score2,f1_score3,f1_score4,f1_score5]"
   ]
  },
  {
   "cell_type": "code",
   "execution_count": 127,
   "id": "0415ab64",
   "metadata": {},
   "outputs": [
    {
     "data": {
      "text/plain": [
       "[0.4876033057851239,\n",
       " 0.22978723404255322,\n",
       " 0.48535564853556484,\n",
       " 0.4745762711864407,\n",
       " 0.2508710801393728]"
      ]
     },
     "execution_count": 127,
     "metadata": {},
     "output_type": "execute_result"
    }
   ],
   "source": [
    "f1_score"
   ]
  },
  {
   "cell_type": "markdown",
   "id": "cac0a385",
   "metadata": {},
   "source": [
    "### ROUGE-1 Score"
   ]
  },
  {
   "cell_type": "code",
   "execution_count": 76,
   "id": "e2dce226",
   "metadata": {},
   "outputs": [],
   "source": [
    "from nltk.translate.bleu_score import sentence_bleu\n",
    "from nltk.util import ngrams\n",
    "import re\n",
    "def calculate_rouge_n(reference, hypothesis, n=1):\n",
    "    reference_tokens = re.findall(r'\\b\\w+\\b', reference.lower())\n",
    "    hypothesis_tokens = re.findall(r'\\b\\w+\\b', hypothesis.lower())\n",
    "    reference_ngrams = list(ngrams(reference_tokens, n))\n",
    "    hypothesis_ngrams = list(ngrams(hypothesis_tokens, n))\n",
    "    overlap = len(set(reference_ngrams) & set(hypothesis_ngrams))\n",
    "    precision = overlap / len(hypothesis_ngrams) if len(hypothesis_ngrams) > 0 else 0\n",
    "    recall = overlap / len(reference_ngrams) if len(reference_ngrams) > 0 else 0\n",
    "    f1_score = 2 * (precision * recall) / (precision + recall) if (precision + recall) > 0 else 0\n",
    "    return f1_score"
   ]
  },
  {
   "cell_type": "code",
   "execution_count": 77,
   "id": "e9126b9d",
   "metadata": {},
   "outputs": [],
   "source": [
    "rouge1_score1 = calculate_rouge_n(text,summarized_text1[0]['summary_text'])"
   ]
  },
  {
   "cell_type": "code",
   "execution_count": 78,
   "id": "15b74996",
   "metadata": {},
   "outputs": [
    {
     "data": {
      "text/plain": [
       "0.2822966507177033"
      ]
     },
     "execution_count": 78,
     "metadata": {},
     "output_type": "execute_result"
    }
   ],
   "source": [
    "rouge1_score1"
   ]
  },
  {
   "cell_type": "code",
   "execution_count": 79,
   "id": "746bae0b",
   "metadata": {},
   "outputs": [],
   "source": [
    "rouge1_score2 = calculate_rouge_n(text,summarized_text2[0]['summary_text'])"
   ]
  },
  {
   "cell_type": "code",
   "execution_count": 80,
   "id": "e7df15fa",
   "metadata": {},
   "outputs": [
    {
     "data": {
      "text/plain": [
       "0.18781725888324874"
      ]
     },
     "execution_count": 80,
     "metadata": {},
     "output_type": "execute_result"
    }
   ],
   "source": [
    "rouge1_score2"
   ]
  },
  {
   "cell_type": "code",
   "execution_count": 81,
   "id": "165f5074",
   "metadata": {},
   "outputs": [],
   "source": [
    "rouge1_score3 = calculate_rouge_n(text,summarized_text3)"
   ]
  },
  {
   "cell_type": "code",
   "execution_count": 82,
   "id": "6396aba7",
   "metadata": {},
   "outputs": [
    {
     "data": {
      "text/plain": [
       "0.26423690205011385"
      ]
     },
     "execution_count": 82,
     "metadata": {},
     "output_type": "execute_result"
    }
   ],
   "source": [
    "rouge1_score3"
   ]
  },
  {
   "cell_type": "code",
   "execution_count": 83,
   "id": "7e1f1a80",
   "metadata": {},
   "outputs": [],
   "source": [
    "rouge1_score4 = calculate_rouge_n(text,summarized_text4[0]['summary_text'])"
   ]
  },
  {
   "cell_type": "code",
   "execution_count": 84,
   "id": "027a5c39",
   "metadata": {},
   "outputs": [
    {
     "data": {
      "text/plain": [
       "0.26987951807228916"
      ]
     },
     "execution_count": 84,
     "metadata": {},
     "output_type": "execute_result"
    }
   ],
   "source": [
    "rouge1_score4"
   ]
  },
  {
   "cell_type": "code",
   "execution_count": 85,
   "id": "920ade3f",
   "metadata": {},
   "outputs": [],
   "source": [
    "rouge1_score5 = calculate_rouge_n(text,summarized_text5[0]['summary_text'])"
   ]
  },
  {
   "cell_type": "code",
   "execution_count": 86,
   "id": "1f6f1df9",
   "metadata": {},
   "outputs": [
    {
     "data": {
      "text/plain": [
       "0.16977225672877846"
      ]
     },
     "execution_count": 86,
     "metadata": {},
     "output_type": "execute_result"
    }
   ],
   "source": [
    "rouge1_score5"
   ]
  },
  {
   "cell_type": "code",
   "execution_count": 128,
   "id": "04dbc7d7",
   "metadata": {},
   "outputs": [],
   "source": [
    "rouge1_score = [rouge1_score1,rouge1_score2,rouge1_score3,rouge1_score4,rouge1_score5]"
   ]
  },
  {
   "cell_type": "code",
   "execution_count": 129,
   "id": "1d3f3c97",
   "metadata": {},
   "outputs": [
    {
     "data": {
      "text/plain": [
       "[0.2822966507177033,\n",
       " 0.18781725888324874,\n",
       " 0.26423690205011385,\n",
       " 0.26987951807228916,\n",
       " 0.16977225672877846]"
      ]
     },
     "execution_count": 129,
     "metadata": {},
     "output_type": "execute_result"
    }
   ],
   "source": [
    "rouge1_score"
   ]
  },
  {
   "cell_type": "markdown",
   "id": "e6d72ab5",
   "metadata": {},
   "source": [
    "### ROUGE - 2 Score"
   ]
  },
  {
   "cell_type": "code",
   "execution_count": 87,
   "id": "3600e86f",
   "metadata": {},
   "outputs": [],
   "source": [
    "rouge2_score1 = calculate_rouge_n(text,summarized_text1[0]['summary_text'],n=2)"
   ]
  },
  {
   "cell_type": "code",
   "execution_count": 88,
   "id": "0fe98124",
   "metadata": {},
   "outputs": [
    {
     "data": {
      "text/plain": [
       "0.4134615384615385"
      ]
     },
     "execution_count": 88,
     "metadata": {},
     "output_type": "execute_result"
    }
   ],
   "source": [
    "rouge2_score1"
   ]
  },
  {
   "cell_type": "code",
   "execution_count": 89,
   "id": "0ee1320d",
   "metadata": {},
   "outputs": [],
   "source": [
    "rouge2_score2 = calculate_rouge_n(text,summarized_text2[0]['summary_text'],n=2)"
   ]
  },
  {
   "cell_type": "code",
   "execution_count": 90,
   "id": "1750159a",
   "metadata": {},
   "outputs": [
    {
     "data": {
      "text/plain": [
       "0.16836734693877553"
      ]
     },
     "execution_count": 90,
     "metadata": {},
     "output_type": "execute_result"
    }
   ],
   "source": [
    "rouge2_score2"
   ]
  },
  {
   "cell_type": "code",
   "execution_count": 91,
   "id": "3a8447f9",
   "metadata": {},
   "outputs": [],
   "source": [
    "rouge2_score3 = calculate_rouge_n(text,summarized_text3,n=2)"
   ]
  },
  {
   "cell_type": "code",
   "execution_count": 92,
   "id": "12cab529",
   "metadata": {},
   "outputs": [
    {
     "data": {
      "text/plain": [
       "0.4302059496567506"
      ]
     },
     "execution_count": 92,
     "metadata": {},
     "output_type": "execute_result"
    }
   ],
   "source": [
    "rouge2_score3"
   ]
  },
  {
   "cell_type": "code",
   "execution_count": 93,
   "id": "ec85cf4e",
   "metadata": {},
   "outputs": [],
   "source": [
    "rouge2_score4 = calculate_rouge_n(text,summarized_text4[0]['summary_text'],n=2)"
   ]
  },
  {
   "cell_type": "code",
   "execution_count": 94,
   "id": "34c8ea83",
   "metadata": {},
   "outputs": [
    {
     "data": {
      "text/plain": [
       "0.40193704600484265"
      ]
     },
     "execution_count": 94,
     "metadata": {},
     "output_type": "execute_result"
    }
   ],
   "source": [
    "rouge2_score4"
   ]
  },
  {
   "cell_type": "code",
   "execution_count": 95,
   "id": "338a3ac6",
   "metadata": {},
   "outputs": [],
   "source": [
    "rouge2_score5 = calculate_rouge_n(text,summarized_text5[0]['summary_text'],n=2)"
   ]
  },
  {
   "cell_type": "code",
   "execution_count": 96,
   "id": "8d65df85",
   "metadata": {},
   "outputs": [
    {
     "data": {
      "text/plain": [
       "0.09147609147609147"
      ]
     },
     "execution_count": 96,
     "metadata": {},
     "output_type": "execute_result"
    }
   ],
   "source": [
    "rouge2_score5"
   ]
  },
  {
   "cell_type": "code",
   "execution_count": 130,
   "id": "7e8e3660",
   "metadata": {},
   "outputs": [],
   "source": [
    "rouge2_score = [rouge2_score1,rouge2_score2,rouge2_score3,rouge2_score4,rouge2_score5]"
   ]
  },
  {
   "cell_type": "code",
   "execution_count": 131,
   "id": "c6534d69",
   "metadata": {},
   "outputs": [
    {
     "data": {
      "text/plain": [
       "[0.4134615384615385,\n",
       " 0.16836734693877553,\n",
       " 0.4302059496567506,\n",
       " 0.40193704600484265,\n",
       " 0.09147609147609147]"
      ]
     },
     "execution_count": 131,
     "metadata": {},
     "output_type": "execute_result"
    }
   ],
   "source": [
    "rouge2_score"
   ]
  },
  {
   "cell_type": "markdown",
   "id": "60adfb8a",
   "metadata": {},
   "source": [
    "### METEOR Score"
   ]
  },
  {
   "cell_type": "code",
   "execution_count": 100,
   "id": "17ab669d",
   "metadata": {},
   "outputs": [],
   "source": [
    "import nltk\n",
    "from nltk.translate.meteor_score import meteor_score\n",
    "def calculate_meteor_score(reference, hypothesis):\n",
    "    reference_tokens = nltk.word_tokenize(reference)\n",
    "    hypothesis_tokens = nltk.word_tokenize(hypothesis)\n",
    "    meteor_score_value = meteor_score([reference_tokens], hypothesis_tokens)\n",
    "    return meteor_score_value"
   ]
  },
  {
   "cell_type": "code",
   "execution_count": 102,
   "id": "cd65b503",
   "metadata": {},
   "outputs": [],
   "source": [
    "meteor_score1 = calculate_meteor_score(text,summarized_text1[0]['summary_text'])"
   ]
  },
  {
   "cell_type": "code",
   "execution_count": 103,
   "id": "322a03b2",
   "metadata": {},
   "outputs": [
    {
     "data": {
      "text/plain": [
       "0.22055549047127906"
      ]
     },
     "execution_count": 103,
     "metadata": {},
     "output_type": "execute_result"
    }
   ],
   "source": [
    "meteor_score1"
   ]
  },
  {
   "cell_type": "code",
   "execution_count": 104,
   "id": "689e0212",
   "metadata": {},
   "outputs": [],
   "source": [
    "meteor_score2 = calculate_meteor_score(text,summarized_text2[0]['summary_text'])"
   ]
  },
  {
   "cell_type": "code",
   "execution_count": 105,
   "id": "3371cb27",
   "metadata": {},
   "outputs": [
    {
     "data": {
      "text/plain": [
       "0.16372591202217887"
      ]
     },
     "execution_count": 105,
     "metadata": {},
     "output_type": "execute_result"
    }
   ],
   "source": [
    "meteor_score2"
   ]
  },
  {
   "cell_type": "code",
   "execution_count": 106,
   "id": "500d3a7c",
   "metadata": {},
   "outputs": [],
   "source": [
    "meteor_score3 = calculate_meteor_score(text,summarized_text3)"
   ]
  },
  {
   "cell_type": "code",
   "execution_count": 107,
   "id": "af2b4e7e",
   "metadata": {},
   "outputs": [
    {
     "data": {
      "text/plain": [
       "0.26311687672446565"
      ]
     },
     "execution_count": 107,
     "metadata": {},
     "output_type": "execute_result"
    }
   ],
   "source": [
    "meteor_score3"
   ]
  },
  {
   "cell_type": "code",
   "execution_count": 108,
   "id": "c42c3867",
   "metadata": {},
   "outputs": [],
   "source": [
    "meteor_score4 = calculate_meteor_score(text,summarized_text4[0]['summary_text'])"
   ]
  },
  {
   "cell_type": "code",
   "execution_count": 109,
   "id": "527becbd",
   "metadata": {},
   "outputs": [
    {
     "data": {
      "text/plain": [
       "0.2155428618225744"
      ]
     },
     "execution_count": 109,
     "metadata": {},
     "output_type": "execute_result"
    }
   ],
   "source": [
    "meteor_score4"
   ]
  },
  {
   "cell_type": "code",
   "execution_count": 110,
   "id": "4572c97a",
   "metadata": {},
   "outputs": [],
   "source": [
    "meteor_score5 = calculate_meteor_score(text,summarized_text5[0]['summary_text'])"
   ]
  },
  {
   "cell_type": "code",
   "execution_count": 111,
   "id": "8c8a0943",
   "metadata": {},
   "outputs": [
    {
     "data": {
      "text/plain": [
       "0.1855950314171489"
      ]
     },
     "execution_count": 111,
     "metadata": {},
     "output_type": "execute_result"
    }
   ],
   "source": [
    "meteor_score5"
   ]
  },
  {
   "cell_type": "code",
   "execution_count": 132,
   "id": "a88bc9b5",
   "metadata": {},
   "outputs": [],
   "source": [
    "meteor_score = [meteor_score1,meteor_score2,meteor_score3,meteor_score4,meteor_score5]"
   ]
  },
  {
   "cell_type": "code",
   "execution_count": 133,
   "id": "3012901b",
   "metadata": {},
   "outputs": [
    {
     "data": {
      "text/plain": [
       "[0.22055549047127906,\n",
       " 0.16372591202217887,\n",
       " 0.26311687672446565,\n",
       " 0.2155428618225744,\n",
       " 0.1855950314171489]"
      ]
     },
     "execution_count": 133,
     "metadata": {},
     "output_type": "execute_result"
    }
   ],
   "source": [
    "meteor_score"
   ]
  },
  {
   "cell_type": "markdown",
   "id": "987a7875",
   "metadata": {},
   "source": [
    "## Creating a dataset now with the model names and different scores"
   ]
  },
  {
   "cell_type": "code",
   "execution_count": 134,
   "id": "ab9eb101",
   "metadata": {},
   "outputs": [],
   "source": [
    "import pandas as pd\n",
    "model_names = [\"bart-large-cnn\", \"MEETING_SUMMARY\", \"t5-base-fr-sum-cnndm\", \"text_summarization\", \"led-large-book-summary\"]\n",
    "data = {\n",
    "    \"Model Name\": model_names,\n",
    "    \"BLEU SCORE\": bleu_score,\n",
    "    \"F1 SCORE\": f1_score,\n",
    "    \"ROUGE-1 SCORE\": rouge1_score,\n",
    "    \"ROUGE-2 SCORE\": rouge2_score,\n",
    "    \"METEOR SCORE\": meteor_score\n",
    "}\n",
    "df = pd.DataFrame(data)"
   ]
  },
  {
   "cell_type": "code",
   "execution_count": 135,
   "id": "65c8f5d8",
   "metadata": {},
   "outputs": [
    {
     "data": {
      "text/html": [
       "<div>\n",
       "<style scoped>\n",
       "    .dataframe tbody tr th:only-of-type {\n",
       "        vertical-align: middle;\n",
       "    }\n",
       "\n",
       "    .dataframe tbody tr th {\n",
       "        vertical-align: top;\n",
       "    }\n",
       "\n",
       "    .dataframe thead th {\n",
       "        text-align: right;\n",
       "    }\n",
       "</style>\n",
       "<table border=\"1\" class=\"dataframe\">\n",
       "  <thead>\n",
       "    <tr style=\"text-align: right;\">\n",
       "      <th></th>\n",
       "      <th>Model Name</th>\n",
       "      <th>BLEU SCORE</th>\n",
       "      <th>F1 SCORE</th>\n",
       "      <th>ROUGE-1 SCORE</th>\n",
       "      <th>ROUGE-2 SCORE</th>\n",
       "      <th>METEOR SCORE</th>\n",
       "    </tr>\n",
       "  </thead>\n",
       "  <tbody>\n",
       "    <tr>\n",
       "      <th>0</th>\n",
       "      <td>bart-large-cnn</td>\n",
       "      <td>0.075257</td>\n",
       "      <td>0.487603</td>\n",
       "      <td>0.282297</td>\n",
       "      <td>0.413462</td>\n",
       "      <td>0.220555</td>\n",
       "    </tr>\n",
       "    <tr>\n",
       "      <th>1</th>\n",
       "      <td>MEETING_SUMMARY</td>\n",
       "      <td>0.005524</td>\n",
       "      <td>0.229787</td>\n",
       "      <td>0.187817</td>\n",
       "      <td>0.168367</td>\n",
       "      <td>0.163726</td>\n",
       "    </tr>\n",
       "    <tr>\n",
       "      <th>2</th>\n",
       "      <td>t5-base-fr-sum-cnndm</td>\n",
       "      <td>0.143214</td>\n",
       "      <td>0.485356</td>\n",
       "      <td>0.264237</td>\n",
       "      <td>0.430206</td>\n",
       "      <td>0.263117</td>\n",
       "    </tr>\n",
       "    <tr>\n",
       "      <th>3</th>\n",
       "      <td>text_summarization</td>\n",
       "      <td>0.069843</td>\n",
       "      <td>0.474576</td>\n",
       "      <td>0.269880</td>\n",
       "      <td>0.401937</td>\n",
       "      <td>0.215543</td>\n",
       "    </tr>\n",
       "    <tr>\n",
       "      <th>4</th>\n",
       "      <td>led-large-book-summary</td>\n",
       "      <td>0.003745</td>\n",
       "      <td>0.250871</td>\n",
       "      <td>0.169772</td>\n",
       "      <td>0.091476</td>\n",
       "      <td>0.185595</td>\n",
       "    </tr>\n",
       "  </tbody>\n",
       "</table>\n",
       "</div>"
      ],
      "text/plain": [
       "               Model Name  BLEU SCORE  F1 SCORE  ROUGE-1 SCORE  ROUGE-2 SCORE  \\\n",
       "0          bart-large-cnn    0.075257  0.487603       0.282297       0.413462   \n",
       "1         MEETING_SUMMARY    0.005524  0.229787       0.187817       0.168367   \n",
       "2    t5-base-fr-sum-cnndm    0.143214  0.485356       0.264237       0.430206   \n",
       "3      text_summarization    0.069843  0.474576       0.269880       0.401937   \n",
       "4  led-large-book-summary    0.003745  0.250871       0.169772       0.091476   \n",
       "\n",
       "   METEOR SCORE  \n",
       "0      0.220555  \n",
       "1      0.163726  \n",
       "2      0.263117  \n",
       "3      0.215543  \n",
       "4      0.185595  "
      ]
     },
     "execution_count": 135,
     "metadata": {},
     "output_type": "execute_result"
    }
   ],
   "source": [
    "df"
   ]
  },
  {
   "cell_type": "code",
   "execution_count": 136,
   "id": "3bcf66b7",
   "metadata": {},
   "outputs": [],
   "source": [
    "df.to_csv('input_to_topsis.csv', index=False)"
   ]
  },
  {
   "cell_type": "markdown",
   "id": "b6f407cf",
   "metadata": {},
   "source": [
    "## Getting to know the impacts of the score\n",
    "### BLEU SCORE - postive\n",
    "### F1 SCORE - positive\n",
    "### ROUGE-1 SCORE - positive\n",
    "### ROUGE-2 SCORE - positive\n",
    "### METEOR SCORE - positive"
   ]
  },
  {
   "cell_type": "markdown",
   "id": "1fba111b",
   "metadata": {},
   "source": [
    "## Applying TOPSIS on the dataframe now."
   ]
  },
  {
   "cell_type": "code",
   "execution_count": 151,
   "id": "391addc9",
   "metadata": {},
   "outputs": [
    {
     "name": "stdout",
     "output_type": "stream",
     "text": [
      "TOPSIS Score and Rank Updated and saved to the output file =  C:\\Users\\Asus\\Downloads\\output_of_topsis2.csv\n"
     ]
    },
    {
     "name": "stderr",
     "output_type": "stream",
     "text": [
      "C:\\Python311\\Lib\\site-packages\\topsis\\__main__.py:2: DeprecationWarning: \n",
      "Pyarrow will become a required dependency of pandas in the next major release of pandas (pandas 3.0),\n",
      "(to allow more performant data types, such as the Arrow string type, and better interoperability with other libraries)\n",
      "but was not found to be installed on your system.\n",
      "If this would cause problems for you,\n",
      "please provide us feedback at https://github.com/pandas-dev/pandas/issues/54466\n",
      "        \n",
      "  import pandas as pd\n"
     ]
    }
   ],
   "source": [
    "!py -m topsis.__main__ \"C:\\Users\\Asus\\Downloads\\input_to_topsis.csv\" \"1,1,1,1,1\" \"+,+,+,+,+\" \"C:\\Users\\Asus\\Downloads\\output_of_topsis2.csv\""
   ]
  },
  {
   "cell_type": "code",
   "execution_count": 152,
   "id": "e42a25ca",
   "metadata": {},
   "outputs": [],
   "source": [
    "df_topsis = pd.read_csv(\"C://Users//Asus//Downloads//output_of_topsis2.csv\")"
   ]
  },
  {
   "cell_type": "code",
   "execution_count": 153,
   "id": "c7b7f8fb",
   "metadata": {},
   "outputs": [
    {
     "data": {
      "text/html": [
       "<div>\n",
       "<style scoped>\n",
       "    .dataframe tbody tr th:only-of-type {\n",
       "        vertical-align: middle;\n",
       "    }\n",
       "\n",
       "    .dataframe tbody tr th {\n",
       "        vertical-align: top;\n",
       "    }\n",
       "\n",
       "    .dataframe thead th {\n",
       "        text-align: right;\n",
       "    }\n",
       "</style>\n",
       "<table border=\"1\" class=\"dataframe\">\n",
       "  <thead>\n",
       "    <tr style=\"text-align: right;\">\n",
       "      <th></th>\n",
       "      <th>Model Name</th>\n",
       "      <th>BLEU SCORE</th>\n",
       "      <th>F1 SCORE</th>\n",
       "      <th>ROUGE-1 SCORE</th>\n",
       "      <th>ROUGE-2 SCORE</th>\n",
       "      <th>METEOR SCORE</th>\n",
       "      <th>TOPSIS Score</th>\n",
       "      <th>Rank</th>\n",
       "    </tr>\n",
       "  </thead>\n",
       "  <tbody>\n",
       "    <tr>\n",
       "      <th>0</th>\n",
       "      <td>bart-large-cnn</td>\n",
       "      <td>0.075257</td>\n",
       "      <td>0.487603</td>\n",
       "      <td>0.282297</td>\n",
       "      <td>0.413462</td>\n",
       "      <td>0.220555</td>\n",
       "      <td>0.638902</td>\n",
       "      <td>2.0</td>\n",
       "    </tr>\n",
       "    <tr>\n",
       "      <th>1</th>\n",
       "      <td>MEETING_SUMMARY</td>\n",
       "      <td>0.005524</td>\n",
       "      <td>0.229787</td>\n",
       "      <td>0.187817</td>\n",
       "      <td>0.168367</td>\n",
       "      <td>0.163726</td>\n",
       "      <td>0.103669</td>\n",
       "      <td>4.0</td>\n",
       "    </tr>\n",
       "    <tr>\n",
       "      <th>2</th>\n",
       "      <td>t5-base-fr-sum-cnndm</td>\n",
       "      <td>0.143214</td>\n",
       "      <td>0.485356</td>\n",
       "      <td>0.264237</td>\n",
       "      <td>0.430206</td>\n",
       "      <td>0.263117</td>\n",
       "      <td>0.967075</td>\n",
       "      <td>1.0</td>\n",
       "    </tr>\n",
       "    <tr>\n",
       "      <th>3</th>\n",
       "      <td>text_summarization</td>\n",
       "      <td>0.069843</td>\n",
       "      <td>0.474576</td>\n",
       "      <td>0.269880</td>\n",
       "      <td>0.401937</td>\n",
       "      <td>0.215543</td>\n",
       "      <td>0.605018</td>\n",
       "      <td>3.0</td>\n",
       "    </tr>\n",
       "    <tr>\n",
       "      <th>4</th>\n",
       "      <td>led-large-book-summary</td>\n",
       "      <td>0.003745</td>\n",
       "      <td>0.250871</td>\n",
       "      <td>0.169772</td>\n",
       "      <td>0.091476</td>\n",
       "      <td>0.185595</td>\n",
       "      <td>0.049761</td>\n",
       "      <td>5.0</td>\n",
       "    </tr>\n",
       "  </tbody>\n",
       "</table>\n",
       "</div>"
      ],
      "text/plain": [
       "               Model Name  BLEU SCORE  F1 SCORE  ROUGE-1 SCORE  ROUGE-2 SCORE  \\\n",
       "0          bart-large-cnn    0.075257  0.487603       0.282297       0.413462   \n",
       "1         MEETING_SUMMARY    0.005524  0.229787       0.187817       0.168367   \n",
       "2    t5-base-fr-sum-cnndm    0.143214  0.485356       0.264237       0.430206   \n",
       "3      text_summarization    0.069843  0.474576       0.269880       0.401937   \n",
       "4  led-large-book-summary    0.003745  0.250871       0.169772       0.091476   \n",
       "\n",
       "   METEOR SCORE  TOPSIS Score  Rank  \n",
       "0      0.220555      0.638902   2.0  \n",
       "1      0.163726      0.103669   4.0  \n",
       "2      0.263117      0.967075   1.0  \n",
       "3      0.215543      0.605018   3.0  \n",
       "4      0.185595      0.049761   5.0  "
      ]
     },
     "execution_count": 153,
     "metadata": {},
     "output_type": "execute_result"
    }
   ],
   "source": [
    "df_topsis"
   ]
  },
  {
   "cell_type": "markdown",
   "id": "8b25fa81",
   "metadata": {},
   "source": [
    "### Hence we can conclude that best model is t5-base-fr-sum-cnndm as it is having the highest TOPSIS Score."
   ]
  }
 ],
 "metadata": {
  "kernelspec": {
   "display_name": "Python 3 (ipykernel)",
   "language": "python",
   "name": "python3"
  },
  "language_info": {
   "codemirror_mode": {
    "name": "ipython",
    "version": 3
   },
   "file_extension": ".py",
   "mimetype": "text/x-python",
   "name": "python",
   "nbconvert_exporter": "python",
   "pygments_lexer": "ipython3",
   "version": "3.9.7"
  }
 },
 "nbformat": 4,
 "nbformat_minor": 5
}
